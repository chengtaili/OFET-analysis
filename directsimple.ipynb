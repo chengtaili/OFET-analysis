{
 "cells": [
  {
   "cell_type": "code",
   "execution_count": 1,
   "id": "c56865e1",
   "metadata": {
    "code_folding": []
   },
   "outputs": [
    {
     "data": {
      "application/vnd.jupyter.widget-view+json": {
       "model_id": "47c9119b989740049b5ffcc0396266ec",
       "version_major": 2,
       "version_minor": 0
      },
      "text/plain": [
       "FileUpload(value={}, accept='.lvm', description='Upload')"
      ]
     },
     "metadata": {},
     "output_type": "display_data"
    },
    {
     "data": {
      "application/vnd.jupyter.widget-view+json": {
       "model_id": "eec1327658654d4fb4e51fb877e098d2",
       "version_major": 2,
       "version_minor": 0
      },
      "text/plain": [
       "FloatText(value=6.0, description='W/L:')"
      ]
     },
     "metadata": {},
     "output_type": "display_data"
    },
    {
     "data": {
      "application/vnd.jupyter.widget-view+json": {
       "model_id": "31e0771356514bd0850ded6201b83d40",
       "version_major": 2,
       "version_minor": 0
      },
      "text/plain": [
       "FloatText(value=2.5e-07, description='Ci:')"
      ]
     },
     "metadata": {},
     "output_type": "display_data"
    },
    {
     "data": {
      "application/vnd.jupyter.widget-view+json": {
       "model_id": "7d291469cf924af2a84510803f651d9b",
       "version_major": 2,
       "version_minor": 0
      },
      "text/plain": [
       "FloatText(value=0.0, description='Fit start:')"
      ]
     },
     "metadata": {},
     "output_type": "display_data"
    },
    {
     "data": {
      "application/vnd.jupyter.widget-view+json": {
       "model_id": "8a1977c756bf4f5d89e106f69cb7425a",
       "version_major": 2,
       "version_minor": 0
      },
      "text/plain": [
       "FloatText(value=0.0, description='Fit end:')"
      ]
     },
     "metadata": {},
     "output_type": "display_data"
    },
    {
     "data": {
      "application/vnd.jupyter.widget-view+json": {
       "model_id": "d57c23b25410432eb68040cb8b4ee1a6",
       "version_major": 2,
       "version_minor": 0
      },
      "text/plain": [
       "Button(description='Generate Plot', style=ButtonStyle())"
      ]
     },
     "metadata": {},
     "output_type": "display_data"
    },
    {
     "data": {
      "application/vnd.jupyter.widget-view+json": {
       "model_id": "f87d5094f97149c7a82bf111c893123a",
       "version_major": 2,
       "version_minor": 0
      },
      "text/plain": [
       "Output()"
      ]
     },
     "metadata": {},
     "output_type": "display_data"
    }
   ],
   "source": [
    "import ipywidgets as widgets\n",
    "from IPython.display import display, clear_output\n",
    "import pandas as pd\n",
    "import numpy as np\n",
    "import matplotlib.pyplot as plt\n",
    "from scipy.optimize import curve_fit\n",
    "from matplotlib.lines import Line2D\n",
    "from ipywidgets import interact_manual\n",
    "import ipywidgets as widgets\n",
    "import io\n",
    "\n",
    "import warnings\n",
    "warnings.filterwarnings(\"ignore\")\n",
    "\n",
    "#定义拟合曲线\n",
    "def linear_func(x, a, b):\n",
    "    return a * x + b\n",
    "\n",
    "# 生成图\n",
    "def generate_plot(file_path, wl, Ci, fit_start, fit_end):\n",
    "    # 将所有与绘图相关的代码放在此函数内\n",
    "    # 读取文件\n",
    "    df = file_path\n",
    "\n",
    "    # 删除第一列、第五列、第六列\n",
    "    df = df.drop(df.columns[[0, 4, 5]], axis=1)\n",
    "\n",
    "    # 更改列名\n",
    "    df.columns = ['VG', 'Ids', 'Igs']\n",
    "\n",
    "    # 插入新列\n",
    "    df['idssqrt'] = df['Ids'].apply(lambda x: x**0.5)\n",
    "    df = df[['VG', 'Ids', 'idssqrt', 'Igs']]\n",
    "\n",
    "    # 找到第一个局部最小值（VG=b）的索引\n",
    "    split_index = df[(df['VG'].shift(1) > df['VG']) & (df['VG'].shift(-1) > df['VG'])].index[0]\n",
    "\n",
    "    # 提取第一组循环扫描数据\n",
    "    df_filtered = df.iloc[:split_index + 1]\n",
    "\n",
    "    # 计算idssqrt的一阶微分\n",
    "    df_filtered['idssqrt_diff'] = np.gradient(df_filtered['idssqrt'], df_filtered['VG'])\n",
    "\n",
    "    # 计算所需的数据\n",
    "    df_filtered['result'] = (df_filtered['idssqrt_diff']**2) * 2 / (wl * Ci)\n",
    "\n",
    "    # 创建一个1x2的子图布局\n",
    "    fig, (ax1, ax2) = plt.subplots(nrows=1, ncols=2, figsize=(14, 8))\n",
    "\n",
    "    # 绘制第一个子图（交换后）\n",
    "    ax1.plot(df['VG'], df['Ids'], '-', color='blue', label='Ids')\n",
    "    ax1.plot(df['VG'], df['Igs'], 'g.', label='Igs')\n",
    "    ax1.set_xlabel('Gate Voltage (V)', fontsize=16)\n",
    "    ax1.set_ylabel('Drain-Source Current (A)', color='blue', fontsize=16)\n",
    "    ax1.set_yscale('log')\n",
    "    ax1.margins(0, 0.05)\n",
    "\n",
    "    ax1_twin = ax1.twinx()\n",
    "    ax1_twin.plot(df['VG'], df['idssqrt'], '-', color='red', label='idssqrt')\n",
    "    ax1_twin.set_ylabel('Square Root of Ids (A^0.5)', color='red', fontsize=16)\n",
    "\n",
    "    # 添加 w/l 和 Ci 的值到第一个子图的标题\n",
    "    ax1.set_title(f'w/l = {wl:.2f}, Ci = {Ci:.2e}', fontsize=16)\n",
    "\n",
    "    # 绘制第二个子图（交换后）\n",
    "    ax2.plot(df_filtered['VG'], df_filtered['result'])\n",
    "    ax2.set_xlabel('Gate Voltage (V)', fontsize=16)\n",
    "    ax2.set_ylabel('Mobility (cm^2/Vs)', fontsize=16)\n",
    "    ax2.margins(0, 0.05)\n",
    "\n",
    "    # Find the indices corresponding to the first sweep (from point 'a' to point 'b')\n",
    "    first_sweep_indices = df_filtered.index\n",
    "\n",
    "    # 设置拟合的区间\n",
    "    xdata_ab = df_filtered[(df_filtered['VG'] >= fit_start) & (df_filtered['VG'] <= fit_end)]['VG']\n",
    "    ydata_ab = df_filtered[(df_filtered['VG'] >= fit_start) & (df_filtered['VG'] <= fit_end)]['idssqrt']\n",
    "\n",
    "    popt_ab, pcov_ab = curve_fit(linear_func, xdata_ab, ydata_ab)\n",
    "\n",
    "    # 在第一个子图中绘制直线 (from a to b)\n",
    "    ax1_twin.plot(xdata_ab, linear_func(xdata_ab, *popt_ab), '--', color='orange', label='Linear Fit (a to b)')\n",
    "    ax1_twin.legend(loc='upper right')\n",
    "\n",
    "    # 提取第二个扫描过程 (从点 'b' 到点 'a') 的数据\n",
    "    df_second_sweep = df.iloc[split_index:]\n",
    "\n",
    "\n",
    "    # 设置拟合的区间\n",
    "    xdata_ba = df_second_sweep[(df_second_sweep['VG'] >= fit_start) & (df_second_sweep['VG'] <= fit_end)]['VG']\n",
    "    ydata_ba = df_second_sweep[(df_second_sweep['VG'] >= fit_start) & (df_second_sweep['VG'] <= fit_end)]['idssqrt']\n",
    "\n",
    "    popt_ba, pcov_ba = curve_fit(linear_func, xdata_ba, ydata_ba)\n",
    "\n",
    "    # 在第一个子图中绘制直线 (from b to a)\n",
    "    ax1_twin.plot(xdata_ba, linear_func(xdata_ba, *popt_ba), '-.', color='purple', label='Linear Fit (b to a)')\n",
    "    ax1_twin.legend(loc='upper right')\n",
    "    # 在第一个子图中绘制直线 (from a to b)\n",
    "    line_ab, = ax1_twin.plot(xdata_ab, linear_func(xdata_ab, *popt_ab), '--', color='orange', label='Linear Fit (a to b)')\n",
    "    ax1_twin.legend(loc='upper left')\n",
    "\n",
    "    # 在第一个子图中绘制直线 (from b to a)\n",
    "    line_ba, = ax1_twin.plot(xdata_ba, linear_func(xdata_ba, *popt_ba), '-.', color='purple', label='Linear Fit (b to a)')\n",
    "    ax1_twin.legend(loc='upper left')\n",
    "\n",
    "    # 创建一个空列表，用于存储图例条目\n",
    "    legend_elements = []\n",
    "    # 添加从 a 到 b 的拟合曲线图例\n",
    "    legend_elements.append(line_ab)  \n",
    "    # 添加从 b 到 a 的拟合曲线图例\n",
    "    legend_elements.append(line_ba) \n",
    "    # 添加 Ids 和 Igs 的图例\n",
    "    legend_elements.append(Line2D([0], [0], color='blue', linestyle='-', label='Ids'))\n",
    "    legend_elements.append(Line2D([0], [0], color='green', marker='.', linestyle='', label='Igs'))\n",
    "    legend_elements.append(Line2D([0], [0], color='red', linestyle='-', label='idssqrt'))\n",
    "\n",
    "    # 在 ax1_twin 上显示合并的图例\n",
    "    ax1_twin.legend(handles=legend_elements, loc='upper right')\n",
    "\n",
    "    # 计算 μ 和 Vth\n",
    "    mu_ab = (popt_ab[0]**2) * 2 / (wl * Ci)\n",
    "    Vth_ab = -popt_ab[1] / popt_ab[0]\n",
    "\n",
    "    mu_ba = (popt_ba[0]**2) * 2 / (wl * Ci)\n",
    "    Vth_ba = -popt_ba[1] / popt_ba[0]\n",
    "\n",
    "    # 将变量格式化为橙色和紫色\n",
    "    orange_mu_vth = f'{mu_ab:.2e} '\n",
    "    purple_mu_vth = f'{mu_ba:.2e} '\n",
    "\n",
    "    # 创建文本标签对象，并将其添加到子图中\n",
    "    title = ax2.text(0.5, 1.07, 'Mobility and Threshold Voltage', ha='center', va='bottom', transform=ax2.transAxes, fontsize=16)\n",
    "    mu_ab_label = ax2.text(0.03, 1.04, f'μ(ave)  = {orange_mu_vth} cm^2/Vs, Vth  = {Vth_ab:.2f} V', transform=ax2.transAxes, fontsize=14)\n",
    "    mu_ba_label = ax2.text(0.03, 1.01, f'μ(ave) = {purple_mu_vth} cm^2/Vs, Vth  = {Vth_ba:.2f} V', transform=ax2.transAxes, fontsize=14)\n",
    "\n",
    "    # 将文本标签的颜色设置为橙色和紫色\n",
    "    mu_ab_label.set_color('orange')\n",
    "    mu_ba_label.set_color('purple')\n",
    "\n",
    "    plt.subplots_adjust(wspace=0.4)\n",
    "    return plt.gcf()\n",
    "\n",
    "# 创建上传文件按钮\n",
    "uploader = widgets.FileUpload(accept='.lvm', multiple=False)\n",
    "\n",
    "# 创建输入控件\n",
    "wl = widgets.FloatText(value=6, description='W/L:')\n",
    "Ci = widgets.FloatText(value=2.5e-7, description='Ci:', format=\"%.2e\")\n",
    "fit_start = widgets.FloatText(description='Fit start:')\n",
    "fit_end = widgets.FloatText(description='Fit end:')\n",
    "\n",
    "# 创建运行按钮\n",
    "run_button = widgets.Button(description='Generate Plot')\n",
    "\n",
    "# 创建一个输出窗口\n",
    "output = widgets.Output()\n",
    "\n",
    "# 定义运行按钮的事件\n",
    "def on_run_button_click(button):\n",
    "    with output:\n",
    "        clear_output(wait=True)\n",
    "        \n",
    "        # 检查是否已经上传了文件\n",
    "        if not uploader.value:\n",
    "            print(\"Please upload a LVM file.\")\n",
    "            return\n",
    "\n",
    "        # 从上传文件中读取数据\n",
    "        file_content = uploader.value[list(uploader.value.keys())[0]]['content']\n",
    "        file_path = pd.read_csv(io.BytesIO(file_content), sep='\\t', skiprows=21, error_bad_lines=False)\n",
    "\n",
    "        # 调用 generate_plot 函数并显示图像\n",
    "        fig = generate_plot(file_path, wl.value, Ci.value, fit_start.value, fit_end.value)\n",
    "        plt.show(fig)\n",
    "\n",
    "# 为运行按钮分配事件\n",
    "run_button.on_click(on_run_button_click)\n",
    "\n",
    "# 在Notebook中显示所有部件\n",
    "display(uploader, wl, Ci, fit_start, fit_end, run_button, output)\n"
   ]
  },
  {
   "cell_type": "code",
   "execution_count": null,
   "id": "85c56ff5",
   "metadata": {},
   "outputs": [],
   "source": []
  },
  {
   "cell_type": "code",
   "execution_count": null,
   "id": "c20a17b6",
   "metadata": {},
   "outputs": [],
   "source": []
  }
 ],
 "metadata": {
  "kernelspec": {
   "display_name": "Python 3 (ipykernel)",
   "language": "python",
   "name": "python3"
  },
  "language_info": {
   "codemirror_mode": {
    "name": "ipython",
    "version": 3
   },
   "file_extension": ".py",
   "mimetype": "text/x-python",
   "name": "python",
   "nbconvert_exporter": "python",
   "pygments_lexer": "ipython3",
   "version": "3.8.5"
  }
 },
 "nbformat": 4,
 "nbformat_minor": 5
}
