{
 "cells": [
  {
   "cell_type": "code",
   "execution_count": 1,
   "id": "e177e2dc",
   "metadata": {},
   "outputs": [
    {
     "data": {
      "application/vnd.jupyter.widget-view+json": {
       "model_id": "d98d50429c504b8689cf1c53b2309b73",
       "version_major": 2,
       "version_minor": 0
      },
      "text/plain": [
       "VBox(children=(FloatSlider(value=1.0, description='Amplitude:', max=10.0), FloatSlider(value=1.0, description=…"
      ]
     },
     "metadata": {},
     "output_type": "display_data"
    },
    {
     "data": {
      "application/vnd.jupyter.widget-view+json": {
       "model_id": "c339a65cc3894731a48943ed1b6afa55",
       "version_major": 2,
       "version_minor": 0
      },
      "text/plain": [
       "Output()"
      ]
     },
     "metadata": {},
     "output_type": "display_data"
    }
   ],
   "source": [
    "import numpy as np\n",
    "import matplotlib.pyplot as plt\n",
    "import ipywidgets as widgets\n",
    "from ipywidgets import interactive_output\n",
    "\n",
    "def plot_sine_wave(amplitude, frequency):\n",
    "    t = np.linspace(0, 1, 500)\n",
    "    y = amplitude * np.sin(2 * np.pi * frequency * t)\n",
    "    \n",
    "    plt.figure(figsize=(10, 6))\n",
    "    plt.plot(t, y, label=f'{amplitude} * sin(2π * {frequency} * t)')\n",
    "    plt.xlabel('Time (s)')\n",
    "    plt.ylabel('Amplitude')\n",
    "    plt.legend(loc='upper right')\n",
    "    plt.show()\n",
    "\n",
    "amplitude_slider = widgets.FloatSlider(value=1, min=0, max=10, step=0.1, description='Amplitude:')\n",
    "frequency_slider = widgets.FloatSlider(value=1, min=0, max=10, step=0.1, description='Frequency:')\n",
    "\n",
    "ui = widgets.VBox([amplitude_slider, frequency_slider])\n",
    "\n",
    "out = interactive_output(plot_sine_wave, {'amplitude': amplitude_slider, 'frequency': frequency_slider})\n",
    "display(ui, out)\n"
   ]
  },
  {
   "cell_type": "code",
   "execution_count": null,
   "id": "b6f53e23",
   "metadata": {},
   "outputs": [],
   "source": []
  }
 ],
 "metadata": {
  "kernelspec": {
   "display_name": "Python 3 (ipykernel)",
   "language": "python",
   "name": "python3"
  },
  "language_info": {
   "codemirror_mode": {
    "name": "ipython",
    "version": 3
   },
   "file_extension": ".py",
   "mimetype": "text/x-python",
   "name": "python",
   "nbconvert_exporter": "python",
   "pygments_lexer": "ipython3",
   "version": "3.8.5"
  }
 },
 "nbformat": 4,
 "nbformat_minor": 5
}
